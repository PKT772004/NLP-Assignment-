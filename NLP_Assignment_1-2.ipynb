{
  "nbformat": 4,
  "nbformat_minor": 0,
  "metadata": {
    "colab": {
      "provenance": []
    },
    "kernelspec": {
      "name": "python3",
      "display_name": "Python 3"
    },
    "language_info": {
      "name": "python"
    }
  },
  "cells": [
    {
      "cell_type": "code",
      "execution_count": 3,
      "metadata": {
        "colab": {
          "base_uri": "https://localhost:8080/"
        },
        "id": "_acfTfAs2xO0",
        "outputId": "4a148b45-c967-47aa-fdc9-15420794c1b9"
      },
      "outputs": [
        {
          "output_type": "stream",
          "name": "stdout",
          "text": [
            "Dataset Preview:\n",
            "   category                                           message\n",
            "0      ham               Hey, are you coming to the meeting?\n",
            "1     spam           WIN a FREE vacation to the Bahamas now!\n",
            "2      ham                       Can you send me the report?\n",
            "3     spam  Exclusive offer! Click here to claim your prize.\n",
            "4      ham                        See you tomorrow at 10 AM.\n",
            "==================================================\n",
            "Model Performance Results\n",
            "----------------------------------------\n",
            "Accuracy: 0.6667\n",
            "\n",
            "Confusion Matrix:\n",
            " [[2 0]\n",
            " [1 0]]\n",
            "\n",
            "Classification Report:\n",
            "               precision    recall  f1-score   support\n",
            "\n",
            "           0       0.67      1.00      0.80         2\n",
            "           1       0.00      0.00      0.00         1\n",
            "\n",
            "    accuracy                           0.67         3\n",
            "   macro avg       0.33      0.50      0.40         3\n",
            "weighted avg       0.44      0.67      0.53         3\n",
            "\n"
          ]
        },
        {
          "output_type": "stream",
          "name": "stderr",
          "text": [
            "/usr/local/lib/python3.12/dist-packages/sklearn/metrics/_classification.py:1565: UndefinedMetricWarning: Precision is ill-defined and being set to 0.0 in labels with no predicted samples. Use `zero_division` parameter to control this behavior.\n",
            "  _warn_prf(average, modifier, f\"{metric.capitalize()} is\", len(result))\n",
            "/usr/local/lib/python3.12/dist-packages/sklearn/metrics/_classification.py:1565: UndefinedMetricWarning: Precision is ill-defined and being set to 0.0 in labels with no predicted samples. Use `zero_division` parameter to control this behavior.\n",
            "  _warn_prf(average, modifier, f\"{metric.capitalize()} is\", len(result))\n",
            "/usr/local/lib/python3.12/dist-packages/sklearn/metrics/_classification.py:1565: UndefinedMetricWarning: Precision is ill-defined and being set to 0.0 in labels with no predicted samples. Use `zero_division` parameter to control this behavior.\n",
            "  _warn_prf(average, modifier, f\"{metric.capitalize()} is\", len(result))\n"
          ]
        }
      ],
      "source": [
        "# Assignment 2: Text Classification with Bag-of-Words & Naive Bayes\n",
        "# Name: Sourav Kumar\n",
        "# Roll No: 2301201171\n",
        "\n",
        "import pandas as pd\n",
        "from sklearn.feature_extraction.text import CountVectorizer\n",
        "from sklearn.model_selection import train_test_split\n",
        "from sklearn.naive_bayes import MultinomialNB\n",
        "from sklearn.metrics import accuracy_score, confusion_matrix, classification_report\n",
        "\n",
        "# Sample SMS-like dataset\n",
        "records = {\n",
        "    \"category\": [\"ham\", \"spam\", \"ham\", \"spam\", \"ham\", \"ham\", \"spam\", \"ham\", \"spam\", \"ham\"],\n",
        "    \"message\": [\n",
        "        \"Hey, are you coming to the meeting?\",\n",
        "        \"WIN a FREE vacation to the Bahamas now!\",\n",
        "        \"Can you send me the report?\",\n",
        "        \"Exclusive offer! Click here to claim your prize.\",\n",
        "        \"See you tomorrow at 10 AM.\",\n",
        "        \"What time is our lunch meeting?\",\n",
        "        \"You have won a lottery of $1,000,000.\",\n",
        "        \"Please call me back when you are free.\",\n",
        "        \"URGENT: Your account has been compromised. Reply to secure it.\",\n",
        "        \"Sounds good, I will be there.\"\n",
        "    ]\n",
        "}\n",
        "\n",
        "dataset = pd.DataFrame(records)\n",
        "print(\"Dataset Preview:\\n\", dataset.head())\n",
        "print(\"=\" * 50)\n",
        "\n",
        "# Encode labels\n",
        "dataset[\"category\"] = dataset[\"category\"].map({\"ham\": 0, \"spam\": 1})\n",
        "labels = dataset[\"category\"]\n",
        "\n",
        "# Bag of Words conversion\n",
        "vectorizer = CountVectorizer(stop_words=\"english\")\n",
        "features = vectorizer.fit_transform(dataset[\"message\"])\n",
        "\n",
        "# Train-test split\n",
        "X_train, X_test, y_train, y_test = train_test_split(\n",
        "    features, labels, test_size=0.25, random_state=10\n",
        ")\n",
        "\n",
        "# Train Naive Bayes model\n",
        "nb_clf = MultinomialNB()\n",
        "nb_clf.fit(X_train, y_train)\n",
        "\n",
        "# Predictions\n",
        "y_pred = nb_clf.predict(X_test)\n",
        "\n",
        "# Evaluation\n",
        "print(\"Model Performance Results\")\n",
        "print(\"-\" * 40)\n",
        "print(\"Accuracy:\", round(accuracy_score(y_test, y_pred), 4))\n",
        "print(\"\\nConfusion Matrix:\\n\", confusion_matrix(y_test, y_pred))\n",
        "print(\"\\nClassification Report:\\n\", classification_report(y_test, y_pred))"
      ]
    }
  ]
}